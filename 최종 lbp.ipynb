{
 "cells": [
  {
   "cell_type": "markdown",
   "id": "ed644dba",
   "metadata": {},
   "source": [
    "# 이미지 크롤링"
   ]
  },
  {
   "cell_type": "code",
   "execution_count": null,
   "id": "dcdca5e3",
   "metadata": {
    "ExecuteTime": {
     "end_time": "2022-01-26T14:59:25.382370Z",
     "start_time": "2022-01-26T14:59:25.382370Z"
    }
   },
   "outputs": [],
   "source": [
    "#!pip install selenium"
   ]
  },
  {
   "cell_type": "code",
   "execution_count": 2,
   "id": "825c1bfb",
   "metadata": {
    "ExecuteTime": {
     "end_time": "2022-01-26T11:27:54.817154Z",
     "start_time": "2022-01-26T11:27:54.794253Z"
    }
   },
   "outputs": [
    {
     "data": {
      "text/plain": [
       "\"import warnings\\nwarnings.filterwarnings(action='ignore')\""
      ]
     },
     "execution_count": 2,
     "metadata": {},
     "output_type": "execute_result"
    }
   ],
   "source": [
    "'''import warnings\n",
    "warnings.filterwarnings(action='ignore')'''"
   ]
  },
  {
   "cell_type": "code",
   "execution_count": 9,
   "id": "8295f118",
   "metadata": {
    "ExecuteTime": {
     "end_time": "2022-01-26T14:59:29.421119Z",
     "start_time": "2022-01-26T14:59:29.404164Z"
    }
   },
   "outputs": [],
   "source": [
    "from selenium import webdriver\n",
    "from selenium.webdriver.common.keys import Keys\n",
    "import urllib.request\n",
    "import os\n",
    "import time\n",
    "import cv2\n",
    "import numpy as np\n",
    "from matplotlib import pyplot as plt"
   ]
  },
  {
   "cell_type": "code",
   "execution_count": 10,
   "id": "d25b414c",
   "metadata": {
    "ExecuteTime": {
     "end_time": "2022-01-26T14:59:39.759386Z",
     "start_time": "2022-01-26T14:59:32.139857Z"
    }
   },
   "outputs": [
    {
     "name": "stdout",
     "output_type": "stream",
     "text": [
      "검색어를 입력하세요: 이정재\n",
      "영문 이니셜 입력LJJ\n"
     ]
    }
   ],
   "source": [
    "# 크롤링한 이미지 저장할 폴더(없으며) 생성\n",
    "search = str(input(\"검색어를 입력하세요: \"))\n",
    "search_eng = str(input(\"영문 이니셜 입력\"))\n",
    "isdir = 'crawl_'+search_eng\n",
    "if not os.path.isdir(isdir):\n",
    "    os.makedirs(isdir)"
   ]
  },
  {
   "cell_type": "code",
   "execution_count": 11,
   "id": "f3580e9c",
   "metadata": {
    "ExecuteTime": {
     "end_time": "2022-01-26T15:08:28.471445Z",
     "start_time": "2022-01-26T14:59:41.018272Z"
    }
   },
   "outputs": [
    {
     "name": "stderr",
     "output_type": "stream",
     "text": [
      "C:\\Users\\user\\AppData\\Local\\Temp/ipykernel_10168/959291708.py:2: DeprecationWarning: executable_path has been deprecated, please pass in a Service object\n",
      "  driver = webdriver.Chrome('C:\\\\ProgramData\\\\chromedriver.exe')\n",
      "C:\\Users\\user\\AppData\\Local\\Temp/ipykernel_10168/959291708.py:8: DeprecationWarning: find_element_by_* commands are deprecated. Please use find_element() instead\n",
      "  elem = driver.find_element_by_name(\"q\")\n",
      "C:\\Users\\user\\AppData\\Local\\Temp/ipykernel_10168/959291708.py:32: DeprecationWarning: find_elements_by_* commands are deprecated. Please use find_elements() instead\n",
      "  imgs = driver.find_elements_by_css_selector(\".rg_i.Q4LuWd\")\n",
      "C:\\Users\\user\\AppData\\Local\\Temp/ipykernel_10168/959291708.py:41: DeprecationWarning: find_element_by_* commands are deprecated. Please use find_element() instead\n",
      "  imgUrl = driver.find_element_by_xpath(\n"
     ]
    },
    {
     "name": "stdout",
     "output_type": "stream",
     "text": [
      "Image saved:LJJ_1.jpg\n",
      "Image saved:LJJ_2.jpg\n",
      "Image saved:LJJ_3.jpg\n",
      "Image saved:LJJ_4.jpg\n",
      "Image saved:LJJ_5.jpg\n",
      "Image saved:LJJ_6.jpg\n",
      "Image saved:LJJ_7.jpg\n",
      "Image saved:LJJ_8.jpg\n",
      "Image saved:LJJ_9.jpg\n",
      "Image saved:LJJ_10.jpg\n",
      "Image saved:LJJ_11.jpg\n",
      "Image saved:LJJ_12.jpg\n",
      "Image saved:LJJ_13.jpg\n",
      "Image saved:LJJ_14.jpg\n",
      "Image saved:LJJ_15.jpg\n",
      "Image saved:LJJ_16.jpg\n",
      "Image saved:LJJ_17.jpg\n",
      "Image saved:LJJ_18.jpg\n",
      "Image saved:LJJ_19.jpg\n",
      "Image saved:LJJ_20.jpg\n",
      "Image saved:LJJ_21.jpg\n",
      "Image saved:LJJ_22.jpg\n",
      "Image saved:LJJ_23.jpg\n",
      "Image saved:LJJ_24.jpg\n",
      "Image saved:LJJ_25.jpg\n",
      "Image saved:LJJ_26.jpg\n",
      "Image saved:LJJ_27.jpg\n",
      "Image saved:LJJ_28.jpg\n",
      "Image saved:LJJ_29.jpg\n",
      "Image saved:LJJ_30.jpg\n",
      "Image saved:LJJ_31.jpg\n",
      "Image saved:LJJ_32.jpg\n",
      "Image saved:LJJ_33.jpg\n",
      "Image saved:LJJ_34.jpg\n",
      "Image saved:LJJ_35.jpg\n",
      "Image saved:LJJ_36.jpg\n",
      "Image saved:LJJ_37.jpg\n",
      "Image saved:LJJ_38.jpg\n",
      "Image saved:LJJ_39.jpg\n",
      "Image saved:LJJ_40.jpg\n",
      "Image saved:LJJ_41.jpg\n",
      "Image saved:LJJ_42.jpg\n",
      "Image saved:LJJ_43.jpg\n",
      "Image saved:LJJ_44.jpg\n",
      "Image saved:LJJ_45.jpg\n",
      "Image saved:LJJ_46.jpg\n",
      "Image saved:LJJ_47.jpg\n",
      "Image saved:LJJ_48.jpg\n",
      "Image saved:LJJ_49.jpg\n",
      "Image saved:LJJ_50.jpg\n",
      "Image saved:LJJ_51.jpg\n",
      "Image saved:LJJ_52.jpg\n",
      "Image saved:LJJ_53.jpg\n",
      "Image saved:LJJ_54.jpg\n",
      "Image saved:LJJ_55.jpg\n",
      "Image saved:LJJ_56.jpg\n",
      "Image saved:LJJ_57.jpg\n",
      "Image saved:LJJ_58.jpg\n",
      "Image saved:LJJ_59.jpg\n",
      "Image saved:LJJ_60.jpg\n",
      "Image saved:LJJ_61.jpg\n",
      "Image saved:LJJ_62.jpg\n",
      "Image saved:LJJ_63.jpg\n",
      "Image saved:LJJ_64.jpg\n",
      "Image saved:LJJ_65.jpg\n",
      "Image saved:LJJ_66.jpg\n",
      "Image saved:LJJ_67.jpg\n",
      "Image saved:LJJ_68.jpg\n",
      "Image saved:LJJ_69.jpg\n",
      "Image saved:LJJ_70.jpg\n",
      "Image saved:LJJ_71.jpg\n",
      "Image saved:LJJ_72.jpg\n",
      "Image saved:LJJ_73.jpg\n",
      "Image saved:LJJ_74.jpg\n",
      "Image saved:LJJ_75.jpg\n",
      "Image saved:LJJ_76.jpg\n",
      "Image saved:LJJ_77.jpg\n",
      "Image saved:LJJ_78.jpg\n",
      "Image saved:LJJ_79.jpg\n",
      "Image saved:LJJ_80.jpg\n",
      "Image saved:LJJ_81.jpg\n",
      "Image saved:LJJ_82.jpg\n",
      "Image saved:LJJ_83.jpg\n",
      "Image saved:LJJ_84.jpg\n",
      "Image saved:LJJ_85.jpg\n",
      "Image saved:LJJ_86.jpg\n",
      "Image saved:LJJ_87.jpg\n",
      "Image saved:LJJ_88.jpg\n",
      "Image saved:LJJ_89.jpg\n",
      "Image saved:LJJ_90.jpg\n",
      "Image saved:LJJ_91.jpg\n",
      "Image saved:LJJ_92.jpg\n",
      "Image saved:LJJ_93.jpg\n",
      "Image saved:LJJ_94.jpg\n",
      "Image saved:LJJ_95.jpg\n",
      "Image saved:LJJ_96.jpg\n",
      "Image saved:LJJ_97.jpg\n",
      "Image saved:LJJ_98.jpg\n",
      "Image saved:LJJ_99.jpg\n",
      "Image saved:LJJ_100.jpg\n",
      "Image saved:LJJ_101.jpg\n",
      "Image saved:LJJ_102.jpg\n",
      "Image saved:LJJ_103.jpg\n",
      "Image saved:LJJ_104.jpg\n",
      "Image saved:LJJ_105.jpg\n",
      "Image saved:LJJ_106.jpg\n",
      "Image saved:LJJ_107.jpg\n",
      "Image saved:LJJ_108.jpg\n",
      "Image saved:LJJ_109.jpg\n",
      "Image saved:LJJ_110.jpg\n",
      "Image saved:LJJ_111.jpg\n",
      "Image saved:LJJ_112.jpg\n",
      "Image saved:LJJ_113.jpg\n",
      "Image saved:LJJ_114.jpg\n",
      "Image saved:LJJ_115.jpg\n",
      "Image saved:LJJ_116.jpg\n",
      "Image saved:LJJ_117.jpg\n",
      "Image saved:LJJ_118.jpg\n",
      "Image saved:LJJ_119.jpg\n",
      "Image saved:LJJ_120.jpg\n",
      "Image saved:LJJ_121.jpg\n",
      "Image saved:LJJ_122.jpg\n",
      "Image saved:LJJ_123.jpg\n",
      "Image saved:LJJ_124.jpg\n",
      "Image saved:LJJ_125.jpg\n",
      "Image saved:LJJ_126.jpg\n",
      "Image saved:LJJ_127.jpg\n",
      "Image saved:LJJ_128.jpg\n",
      "Image saved:LJJ_129.jpg\n",
      "Image saved:LJJ_130.jpg\n",
      "Image saved:LJJ_131.jpg\n",
      "Image saved:LJJ_132.jpg\n",
      "Image saved:LJJ_133.jpg\n",
      "Image saved:LJJ_134.jpg\n",
      "Image saved:LJJ_135.jpg\n",
      "Image saved:LJJ_136.jpg\n",
      "Image saved:LJJ_137.jpg\n",
      "Image saved:LJJ_138.jpg\n",
      "Image saved:LJJ_139.jpg\n",
      "Image saved:LJJ_140.jpg\n",
      "Image saved:LJJ_141.jpg\n",
      "Image saved:LJJ_142.jpg\n",
      "Image saved:LJJ_143.jpg\n",
      "Image saved:LJJ_144.jpg\n",
      "Image saved:LJJ_145.jpg\n",
      "Image saved:LJJ_146.jpg\n",
      "Image saved:LJJ_147.jpg\n",
      "Image saved:LJJ_148.jpg\n",
      "Image saved:LJJ_149.jpg\n",
      "Image saved:LJJ_150.jpg\n",
      "Image saved:LJJ_151.jpg\n",
      "Image saved:LJJ_152.jpg\n",
      "Image saved:LJJ_153.jpg\n",
      "Image saved:LJJ_154.jpg\n",
      "Image saved:LJJ_155.jpg\n",
      "Image saved:LJJ_156.jpg\n",
      "Image saved:LJJ_157.jpg\n",
      "Image saved:LJJ_158.jpg\n",
      "Image saved:LJJ_159.jpg\n",
      "Image saved:LJJ_160.jpg\n",
      "Image saved:LJJ_161.jpg\n",
      "Image saved:LJJ_162.jpg\n",
      "Image saved:LJJ_163.jpg\n",
      "Image saved:LJJ_164.jpg\n",
      "Image saved:LJJ_165.jpg\n",
      "Image saved:LJJ_166.jpg\n",
      "Image saved:LJJ_167.jpg\n",
      "Image saved:LJJ_168.jpg\n",
      "Image saved:LJJ_169.jpg\n",
      "Image saved:LJJ_170.jpg\n",
      "Image saved:LJJ_171.jpg\n",
      "Image saved:LJJ_172.jpg\n",
      "Image saved:LJJ_173.jpg\n",
      "Image saved:LJJ_174.jpg\n",
      "Image saved:LJJ_175.jpg\n",
      "Image saved:LJJ_176.jpg\n",
      "Image saved:LJJ_177.jpg\n",
      "Image saved:LJJ_178.jpg\n",
      "Image saved:LJJ_179.jpg\n",
      "Image saved:LJJ_180.jpg\n",
      "Image saved:LJJ_181.jpg\n",
      "Image saved:LJJ_182.jpg\n",
      "Image saved:LJJ_183.jpg\n",
      "Image saved:LJJ_184.jpg\n",
      "Image saved:LJJ_185.jpg\n",
      "Image saved:LJJ_186.jpg\n",
      "Image saved:LJJ_187.jpg\n",
      "Image saved:LJJ_188.jpg\n",
      "Image saved:LJJ_189.jpg\n",
      "Image saved:LJJ_190.jpg\n",
      "Image saved:LJJ_191.jpg\n",
      "Image saved:LJJ_192.jpg\n",
      "Image saved:LJJ_193.jpg\n",
      "Image saved:LJJ_194.jpg\n",
      "Image saved:LJJ_195.jpg\n",
      "Image saved:LJJ_196.jpg\n",
      "Image saved:LJJ_197.jpg\n",
      "Image saved:LJJ_198.jpg\n",
      "Image saved:LJJ_199.jpg\n",
      "Image saved:LJJ_200.jpg\n"
     ]
    }
   ],
   "source": [
    "# 크롬 드라이버 위치\n",
    "driver = webdriver.Chrome('C:\\\\ProgramData\\\\chromedriver.exe')\n",
    "\n",
    "# 이미지 검색 url\n",
    "driver.get(\"https://www.google.co.kr/imghp?hl=ko&tab=wi&authuser=0&ogbl\")\n",
    "\n",
    "# 검색창 선택\n",
    "elem = driver.find_element_by_name(\"q\")\n",
    "\n",
    "# 검색 내용\n",
    "elem.send_keys(search)\n",
    "\n",
    "# 엔터 눌러서 실행\n",
    "elem.send_keys(Keys.RETURN)\n",
    "\n",
    "# 스크롤을 계속 내림\n",
    "SCROLL_PAUSE_TIME = 1\n",
    "\n",
    "# 브라우저 높이 탐색\n",
    "last_height = driver.execute_script(\"return document.body.scrollHeight\")\n",
    "while True:\n",
    "    # 브러우저 끝까지 스크롤\n",
    "    driver.execute_script(\"window.scrollTo(0, document.body.scrollHeight);\")\n",
    "    time.sleep(SCROLL_PAUSE_TIME)\n",
    "    new_height = driver.execute_script(\"return document.body.scrollHeight\")\n",
    "    \n",
    "    if new_height == last_height:\n",
    "        break\n",
    "    last_height = new_height\n",
    "\n",
    "# 이미지 클래스 선택\n",
    "imgs = driver.find_elements_by_css_selector(\".rg_i.Q4LuWd\")\n",
    "\n",
    "count = 1\n",
    "\n",
    "# 이미지 저장\n",
    "for img in imgs:\n",
    "    try:\n",
    "        img.click()\n",
    "        time.sleep(2)\n",
    "        imgUrl = driver.find_element_by_xpath(\n",
    "                \"//*[@id='Sva75c']/div/div/div[3]/div[2]/c-wiz/div/div[1]/div[1]/div[2]/div/a/img\").get_attribute(\n",
    "                \"src\")\n",
    "        path = \"C:\\\\Users\\\\user\\\\hong\\\\project\\\\LBP\\\\\"+isdir+\"\\\\\"\n",
    "        urllib.request.urlretrieve(imgUrl, path + search_eng + \"_\" + str(count) + \".jpg\")\n",
    "        print(\"Image saved:\"+search_eng+\"_{}.jpg\".format(count))\n",
    "        \n",
    "        count = count + 1\n",
    "        if count > 200: #다운 받을 이미지 갯수 조정\n",
    "            break\n",
    "    except:\n",
    "        pass\n",
    "driver.close()"
   ]
  },
  {
   "cell_type": "markdown",
   "id": "f0faee90",
   "metadata": {},
   "source": [
    "# 얼굴 인식"
   ]
  },
  {
   "cell_type": "code",
   "execution_count": 12,
   "id": "ad4e8747",
   "metadata": {
    "ExecuteTime": {
     "end_time": "2022-01-26T15:17:22.540043Z",
     "start_time": "2022-01-26T15:17:22.447581Z"
    }
   },
   "outputs": [],
   "source": [
    "# opencv제공 얼굴 객체 인식 xml파일\n",
    "face_cascade = cv2.CascadeClassifier('C:\\\\opencv\\\\build\\\\etc\\\\haarcascades\\\\haarcascade_frontalface_default.xml')"
   ]
  },
  {
   "cell_type": "code",
   "execution_count": 13,
   "id": "30a1598f",
   "metadata": {
    "ExecuteTime": {
     "end_time": "2022-01-26T15:17:23.735920Z",
     "start_time": "2022-01-26T15:17:23.727944Z"
    }
   },
   "outputs": [],
   "source": [
    "# 크롤링한 이미지가 있는 디렉터리\n",
    "img_dir = 'C:\\\\Users\\\\user\\\\hong\\\\project\\\\LBP\\\\crawl_'+search_eng\n",
    "\n",
    "# 크롤링 이미지 리스트로 생성\n",
    "file_list = os.listdir(img_dir)"
   ]
  },
  {
   "cell_type": "markdown",
   "id": "b327b794",
   "metadata": {},
   "source": [
    "## 아이디"
   ]
  },
  {
   "cell_type": "code",
   "execution_count": 15,
   "id": "8b52ac23",
   "metadata": {
    "ExecuteTime": {
     "end_time": "2022-01-26T15:17:49.168406Z",
     "start_time": "2022-01-26T15:17:49.156961Z"
    }
   },
   "outputs": [],
   "source": [
    "# 얼굴만 저장할 디렉터리\n",
    "if not os.path.isdir(search_eng+'_1'):\n",
    "    os.makedirs(search_eng+'_1')\n",
    "face_dir = ('C:\\\\Users\\\\user\\\\hong\\\\project\\\\LBP\\\\'+search_eng+'_1')"
   ]
  },
  {
   "cell_type": "code",
   "execution_count": 17,
   "id": "16c4b200",
   "metadata": {
    "ExecuteTime": {
     "end_time": "2022-01-26T15:20:34.593685Z",
     "start_time": "2022-01-26T15:20:13.077454Z"
    }
   },
   "outputs": [
    {
     "ename": "error",
     "evalue": "OpenCV(4.5.5) D:\\a\\opencv-python\\opencv-python\\opencv\\modules\\imgproc\\src\\color.cpp:182: error: (-215:Assertion failed) !_src.empty() in function 'cv::cvtColor'\n",
     "output_type": "error",
     "traceback": [
      "\u001b[1;31m---------------------------------------------------------------------------\u001b[0m",
      "\u001b[1;31merror\u001b[0m                                     Traceback (most recent call last)",
      "\u001b[1;32m~\\AppData\\Local\\Temp/ipykernel_10168/3333643282.py\u001b[0m in \u001b[0;36m<module>\u001b[1;34m\u001b[0m\n\u001b[0;32m      4\u001b[0m         \u001b[1;32mcontinue\u001b[0m\u001b[1;33m\u001b[0m\u001b[1;33m\u001b[0m\u001b[0m\n\u001b[0;32m      5\u001b[0m     \u001b[0mimg\u001b[0m \u001b[1;33m=\u001b[0m \u001b[0mcv2\u001b[0m\u001b[1;33m.\u001b[0m\u001b[0mimread\u001b[0m\u001b[1;33m(\u001b[0m\u001b[0mimg_dir\u001b[0m\u001b[1;33m+\u001b[0m\u001b[1;34m'\\\\'\u001b[0m\u001b[1;33m+\u001b[0m\u001b[0ma\u001b[0m\u001b[1;33m)\u001b[0m\u001b[1;33m\u001b[0m\u001b[1;33m\u001b[0m\u001b[0m\n\u001b[1;32m----> 6\u001b[1;33m     \u001b[0mgray\u001b[0m \u001b[1;33m=\u001b[0m \u001b[0mcv2\u001b[0m\u001b[1;33m.\u001b[0m\u001b[0mcvtColor\u001b[0m\u001b[1;33m(\u001b[0m\u001b[0mimg\u001b[0m\u001b[1;33m,\u001b[0m \u001b[0mcv2\u001b[0m\u001b[1;33m.\u001b[0m\u001b[0mCOLOR_BGR2GRAY\u001b[0m\u001b[1;33m)\u001b[0m\u001b[1;33m\u001b[0m\u001b[1;33m\u001b[0m\u001b[0m\n\u001b[0m\u001b[0;32m      7\u001b[0m     \u001b[0mfaces\u001b[0m \u001b[1;33m=\u001b[0m \u001b[0mface_cascade\u001b[0m\u001b[1;33m.\u001b[0m\u001b[0mdetectMultiScale\u001b[0m\u001b[1;33m(\u001b[0m\u001b[0mgray\u001b[0m\u001b[1;33m,\u001b[0m \u001b[1;36m1.3\u001b[0m\u001b[1;33m,\u001b[0m \u001b[1;36m5\u001b[0m\u001b[1;33m)\u001b[0m\u001b[1;33m\u001b[0m\u001b[1;33m\u001b[0m\u001b[0m\n\u001b[0;32m      8\u001b[0m \u001b[1;33m\u001b[0m\u001b[0m\n",
      "\u001b[1;31merror\u001b[0m: OpenCV(4.5.5) D:\\a\\opencv-python\\opencv-python\\opencv\\modules\\imgproc\\src\\color.cpp:182: error: (-215:Assertion failed) !_src.empty() in function 'cv::cvtColor'\n"
     ]
    }
   ],
   "source": [
    "# 얼굴만 잘라서 저장\n",
    "for a in file_list:\n",
    "    img = cv2.imread(img_dir+'\\\\'+a)\n",
    "    gray = cv2.cvtColor(img, cv2.COLOR_BGR2GRAY)\n",
    "    faces = face_cascade.detectMultiScale(gray, 1.3, 5)\n",
    "                     \n",
    "    for (x, y, w, h) in faces:\n",
    "        roi = gray[y:y+h, x:x+w]\n",
    "        # 크기 일정하게 크롭\n",
    "        face = cv2.resize(roi, (200, 200))\n",
    "        cv2.imshow('face', face)\n",
    "        cv2.waitKey(50)\n",
    "        cv2.imwrite(face_dir+'\\\\'+a, face)   \n",
    "        \n",
    "cv2.destroyWindow('face')"
   ]
  },
  {
   "cell_type": "markdown",
   "id": "1b87fb51",
   "metadata": {},
   "source": [
    "# 이미지 학습"
   ]
  },
  {
   "cell_type": "code",
   "execution_count": 6,
   "id": "8f09cc53",
   "metadata": {},
   "outputs": [],
   "source": [
    "import glob"
   ]
  },
  {
   "cell_type": "code",
   "execution_count": 20,
   "id": "e6d7b746",
   "metadata": {},
   "outputs": [],
   "source": [
    "# 확장판지원모델이므로 처음 한 번만 실행하여 설치\n",
    "#!pip install --user opencv-contrib-python"
   ]
  },
  {
   "cell_type": "code",
   "execution_count": 12,
   "id": "19a825ac",
   "metadata": {},
   "outputs": [],
   "source": [
    "base_dir = 'C:\\\\Users\\\\user\\\\hong\\\\project\\\\LBP\\\\face'"
   ]
  },
  {
   "cell_type": "code",
   "execution_count": 3,
   "id": "88542a1e",
   "metadata": {},
   "outputs": [],
   "source": [
    "# 문제, 답 저장할 list 생성\n",
    "train_data, train_labels = [], []"
   ]
  },
  {
   "cell_type": "markdown",
   "id": "7e1e04ba",
   "metadata": {},
   "source": [
    "# XML파일로 변환"
   ]
  },
  {
   "cell_type": "code",
   "execution_count": 24,
   "id": "d2a6b476",
   "metadata": {},
   "outputs": [
    {
     "name": "stdout",
     "output_type": "stream",
     "text": [
      "Collecting train data set:\n",
      "['C:\\\\Users\\\\user\\\\hong\\\\project\\\\LBP\\\\face\\\\ljj_1']\n"
     ]
    }
   ],
   "source": [
    "dirs = [d for d in glob.glob(base_dir+'/*') if os.path.isdir(d)]\n",
    "\n",
    "print('Collecting train data set:')\n",
    "print(dirs)"
   ]
  },
  {
   "cell_type": "code",
   "execution_count": 25,
   "id": "1b067700",
   "metadata": {},
   "outputs": [
    {
     "name": "stdout",
     "output_type": "stream",
     "text": [
      "\t path:C:\\Users\\user\\hong\\project\\LBP\\face\\ljj_1, 190files\n",
      "1\n"
     ]
    }
   ],
   "source": [
    "for dir in dirs:\n",
    "    # name_id 형식에서 id를 분리\n",
    "    id = dir.split('_')[1]\n",
    "\n",
    "    files = glob.glob(dir + '/*.jpg')\n",
    "\n",
    "    print('\\t path:{}, {}files'.format(dir, len(files)))\n",
    "\n",
    "    for file in files:\n",
    "\n",
    "        img = cv2.imread(file, cv2.IMREAD_GRAYSCALE)\n",
    "\n",
    "        # 이미지는 train_data, 아이디는 train_labels에 저장\n",
    "\n",
    "        train_data.append(np.asarray(img, dtype=np.uint8))\n",
    "\n",
    "        train_labels.append(int(id))\n",
    "\n",
    "print(id)"
   ]
  },
  {
   "cell_type": "code",
   "execution_count": 26,
   "id": "9d951beb",
   "metadata": {
    "cell_style": "center"
   },
   "outputs": [],
   "source": [
    "# 넘파이 어레이로 변환\n",
    "train_data = np.asarray(train_data)\n",
    "train_labels = np.asarray(train_labels)"
   ]
  },
  {
   "cell_type": "code",
   "execution_count": 7,
   "id": "8ad754ea",
   "metadata": {},
   "outputs": [],
   "source": [
    "# LBP 얼굴 인식기\n",
    "model = cv2.face.LBPHFaceRecognizer_create()"
   ]
  },
  {
   "cell_type": "code",
   "execution_count": 28,
   "id": "d978153b",
   "metadata": {},
   "outputs": [],
   "source": [
    "# xml파일 저장할 폴더\n",
    "if not os.path.isdir('xml'):\n",
    "    os.makedirs('xml')"
   ]
  },
  {
   "cell_type": "code",
   "execution_count": 29,
   "id": "55a7423e",
   "metadata": {},
   "outputs": [
    {
     "name": "stdout",
     "output_type": "stream",
     "text": [
      "success\n"
     ]
    }
   ],
   "source": [
    "# 훈련\n",
    "model.train(train_data, train_labels)\n",
    "model.write('C:\\\\Users\\\\user\\\\hong\\\\project\\\\LBP\\\\xml\\\\'+search_eng+'_face.xml')\n",
    "print('success')"
   ]
  },
  {
   "cell_type": "code",
   "execution_count": 10,
   "id": "3f23ea76",
   "metadata": {},
   "outputs": [],
   "source": [
    "# 배우 얼굴 정보 xml\n",
    "model.read(os.path.join('C:\\\\Users\\\\user\\\\hong\\\\project\\\\LBP\\\\xml\\\\'+search_eng+'_face.xml'))"
   ]
  },
  {
   "cell_type": "code",
   "execution_count": 13,
   "id": "8efd13b3",
   "metadata": {},
   "outputs": [],
   "source": [
    "# 디렉터리 이름으로 사용자 이름과 아이디 매핑 정보 생성\n",
    "dirs = [d for d in glob.glob(base_dir+'/*') if os.path.isdir(d)]\n",
    "names = dict([])\n",
    "for dir in dirs:\n",
    "    dir = os.path.basename(dir)\n",
    "    name, id = dir.split('_')\n",
    "    names[int(id)] = name"
   ]
  },
  {
   "cell_type": "markdown",
   "id": "b0797cff",
   "metadata": {},
   "source": [
    "# 결과"
   ]
  },
  {
   "cell_type": "code",
   "execution_count": 14,
   "id": "8ade7af5",
   "metadata": {
    "cell_style": "center"
   },
   "outputs": [],
   "source": [
    "# 테스트 이미지 얼굴 인식하기\n",
    "input_img = cv2.imread('./poster2.jpg')\n",
    "gray = cv2.cvtColor(input_img, cv2.COLOR_BGR2GRAY)"
   ]
  },
  {
   "cell_type": "code",
   "execution_count": 15,
   "id": "9b045f4a",
   "metadata": {},
   "outputs": [],
   "source": [
    "# 얼굴 검출\n",
    "faces = face_cascade.detectMultiScale(gray, 1.3, 5)"
   ]
  },
  {
   "cell_type": "code",
   "execution_count": 17,
   "id": "806139a4",
   "metadata": {},
   "outputs": [
    {
     "data": {
      "text/plain": [
       "-1"
      ]
     },
     "execution_count": 17,
     "metadata": {},
     "output_type": "execute_result"
    }
   ],
   "source": [
    "for (x, y, w, h) in faces:\n",
    "    # 얼굴 영역을 표시하고 샘플과 같은 크기로 축소\n",
    "    cv2.rectangle(input_img, (x, y), (x+w, y+h), (0, 255, 255), 2)\n",
    "    face = input_img[y:y+h, x:x+w]\n",
    "    face = cv2.resize(face, (200, 200))\n",
    "    face = cv2.cvtColor(face, cv2.COLOR_BGR2GRAY)\n",
    "    \n",
    "    # LBP 얼굴 인식기로 예측\n",
    "    label, confidence = model.predict(face)\n",
    "\n",
    "    if confidence < 400:\n",
    "        # 정확도 거리를 퍼센트로 변환\n",
    "        accuracy = int(100 * (1 - confidence/400))\n",
    "        if accuracy >= 85:    # 정확도가 85% 이상이면\n",
    "            msg = '{}-({:.0f}%)-recognized'.format(names[label], accuracy)\n",
    "        else:\n",
    "            msg = '({:.0f}%)-Unknown'.format(accuracy)\n",
    "\n",
    "    # 사용자 이름과 정확도 결과 출력\n",
    "    txt, base = cv2.getTextSize(msg, cv2.FONT_HERSHEY_PLAIN, 1, 3)\n",
    "    cv2.rectangle(input_img, (x, y-base-txt[1]), (x+txt[0], y+txt[1]),\n",
    "                  (0, 255, 255), -1)\n",
    "    cv2.putText(input_img, msg, (x, y), cv2.FONT_HERSHEY_PLAIN, 1,\n",
    "                (0, 0, 255), 2, cv2.LINE_AA)\n",
    "\n",
    " \n",
    "cv2.imshow('face', input_img)\n",
    "\n",
    "cv2.waitKey(27)"
   ]
  }
 ],
 "metadata": {
  "kernelspec": {
   "display_name": "Python 3 (ipykernel)",
   "language": "python",
   "name": "python3"
  },
  "language_info": {
   "codemirror_mode": {
    "name": "ipython",
    "version": 3
   },
   "file_extension": ".py",
   "mimetype": "text/x-python",
   "name": "python",
   "nbconvert_exporter": "python",
   "pygments_lexer": "ipython3",
   "version": "3.8.12"
  },
  "toc": {
   "base_numbering": 1,
   "nav_menu": {},
   "number_sections": true,
   "sideBar": true,
   "skip_h1_title": false,
   "title_cell": "Table of Contents",
   "title_sidebar": "Contents",
   "toc_cell": false,
   "toc_position": {},
   "toc_section_display": true,
   "toc_window_display": false
  }
 },
 "nbformat": 4,
 "nbformat_minor": 5
}
